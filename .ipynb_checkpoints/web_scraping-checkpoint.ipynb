{
 "cells": [
  {
   "cell_type": "code",
   "execution_count": 1,
   "metadata": {},
   "outputs": [],
   "source": [
    "import requests\n",
    "from bs4 import BeautifulSoup"
   ]
  },
  {
   "cell_type": "code",
   "execution_count": 10,
   "metadata": {},
   "outputs": [],
   "source": [
    "import re"
   ]
  },
  {
   "cell_type": "code",
   "execution_count": 2,
   "metadata": {},
   "outputs": [],
   "source": [
    "hs_url = 'https://www.hearthpwn.com/decks?filter-show-standard=1&filter-show-constructed-only=y&filter-deck-tag=1'\n",
    "html_text = requests.get(hs_url).text\n",
    "soup = BeautifulSoup(html_text, 'html.parser')"
   ]
  },
  {
   "cell_type": "code",
   "execution_count": 14,
   "metadata": {},
   "outputs": [],
   "source": [
    "first_page_links = soup.find_all(href=re.compile('^/decks/'))"
   ]
  },
  {
   "cell_type": "code",
   "execution_count": 31,
   "metadata": {},
   "outputs": [],
   "source": [
    "link_deck = first_page_links[1].attrs['href']"
   ]
  },
  {
   "cell_type": "code",
   "execution_count": 33,
   "metadata": {},
   "outputs": [
    {
     "data": {
      "text/plain": [
       "'https://www.hearthpwn.com/decks/1387614-making-friends-with-friendship-warlock'"
      ]
     },
     "execution_count": 33,
     "metadata": {},
     "output_type": "execute_result"
    }
   ],
   "source": [
    "deck_url = 'https://www.hearthpwn.com' + link_deck\n",
    "deck_url"
   ]
  },
  {
   "cell_type": "code",
   "execution_count": 66,
   "metadata": {},
   "outputs": [],
   "source": [
    "first_page_heroes = soup.find_all('td', class_=re.compile('^col-class'))"
   ]
  },
  {
   "cell_type": "code",
   "execution_count": 34,
   "metadata": {},
   "outputs": [],
   "source": [
    "html_text = requests.get(deck_url).text\n",
    "soup2 = BeautifulSoup(html_text, 'html.parser')"
   ]
  },
  {
   "cell_type": "code",
   "execution_count": 41,
   "metadata": {},
   "outputs": [
    {
     "data": {
      "text/plain": [
       "bs4.element.ResultSet"
      ]
     },
     "execution_count": 41,
     "metadata": {},
     "output_type": "execute_result"
    }
   ],
   "source": [
    "type(soup2.find_all(class_=re.compile('t-deck-stats')))"
   ]
  },
  {
   "cell_type": "code",
   "execution_count": 57,
   "metadata": {},
   "outputs": [],
   "source": [
    "info_minions = soup2.find_all(class_='t-deck-card-count-minions')\n",
    "if len(info_minions) > 0:\n",
    "    nb_minions = int(info_minions[0].text[0])\n",
    "else:\n",
    "    nb_minions = 0\n",
    "# do the same with t-deck-card-count-weapons and t-deck-card-count-spells"
   ]
  },
  {
   "cell_type": "code",
   "execution_count": 74,
   "metadata": {},
   "outputs": [],
   "source": [
    "first_deck_cards = soup2.find_all(href=re.compile('^/cards/'), class_=re.compile('^rarity'))"
   ]
  },
  {
   "cell_type": "code",
   "execution_count": 79,
   "metadata": {},
   "outputs": [],
   "source": [
    "card_attrs = first_deck_cards[0].attrs"
   ]
  },
  {
   "cell_type": "code",
   "execution_count": 82,
   "metadata": {},
   "outputs": [
    {
     "data": {
      "text/plain": [
       "{'href': '/cards/329974-raise-dead',\n",
       " 'data-id': '329974',\n",
       " 'data-dust': '40',\n",
       " 'data-rarity': 'COMMON',\n",
       " 'data-count': '2',\n",
       " 'class': ['rarity-1', 'set-1443']}"
      ]
     },
     "execution_count": 82,
     "metadata": {},
     "output_type": "execute_result"
    }
   ],
   "source": [
    "card_attrs"
   ]
  },
  {
   "cell_type": "code",
   "execution_count": 84,
   "metadata": {},
   "outputs": [
    {
     "data": {
      "text/plain": [
       "'COMMON'"
      ]
     },
     "execution_count": 84,
     "metadata": {},
     "output_type": "execute_result"
    }
   ],
   "source": [
    "card_attrs['data-rarity']\n",
    "card_attrs['data-count']"
   ]
  },
  {
   "cell_type": "code",
   "execution_count": 98,
   "metadata": {},
   "outputs": [],
   "source": [
    "# at the deck level, go through all the cards\n",
    "# create a dataframe with the deck id, the nb of cards, the nb of minions, spells, and weapons,\n",
    "# the nb of common, rare, epic and legendary cards\n",
    "\n",
    "# soup2 is a bs4BeautifulSoup element pointing on a particular deck\n",
    "\n",
    "# get the nb of minions, spells, weapons\n",
    "info_minions = soup2.find_all(class_='t-deck-card-count-minions')\n",
    "if len(info_minions) > 0:\n",
    "    nb_minions = int(info_minions[0].text.split()[0])\n",
    "else:\n",
    "    nb_minions = 0\n",
    "    \n",
    "info_spells = soup2.find_all(class_='t-deck-card-count-spells')\n",
    "if len(info_spells) > 0:\n",
    "    nb_spells = int(info_spells[0].text.split()[0])\n",
    "else:\n",
    "    nb_spells = 0\n",
    "    \n",
    "info_weapons = soup2.find_all(class_='t-deck-card-count-weapons')\n",
    "if len(info_weapons) > 0:\n",
    "    nb_weapons = int(info_weapons[0].text.split()[0])\n",
    "else:\n",
    "    nb_weapons = 0"
   ]
  },
  {
   "cell_type": "code",
   "execution_count": 120,
   "metadata": {},
   "outputs": [
    {
     "data": {
      "text/plain": [
       "[<td class=\"col-cost\">0<span class=\"icon-mana\"></span></td>,\n",
       " <td class=\"col-cost\">1<span class=\"icon-mana\"></span></td>,\n",
       " <td class=\"col-cost\">1<span class=\"icon-mana\"></span></td>,\n",
       " <td class=\"col-cost\">2<span class=\"icon-mana\"></span></td>,\n",
       " <td class=\"col-cost\">2<span class=\"icon-mana\"></span></td>,\n",
       " <td class=\"col-cost\">3<span class=\"icon-mana\"></span></td>,\n",
       " <td class=\"col-cost\">3<span class=\"icon-mana\"></span></td>,\n",
       " <td class=\"col-cost\">3<span class=\"icon-mana\"></span></td>,\n",
       " <td class=\"col-cost\">3<span class=\"icon-mana\"></span></td>,\n",
       " <td class=\"col-cost\">4<span class=\"icon-mana\"></span></td>,\n",
       " <td class=\"col-cost\">4<span class=\"icon-mana\"></span></td>,\n",
       " <td class=\"col-cost\">4<span class=\"icon-mana\"></span></td>,\n",
       " <td class=\"col-cost\">5<span class=\"icon-mana\"></span></td>,\n",
       " <td class=\"col-cost\">6<span class=\"icon-mana\"></span></td>,\n",
       " <td class=\"col-cost\">8<span class=\"icon-mana\"></span></td>,\n",
       " <td class=\"col-cost\">9<span class=\"icon-mana\"></span></td>,\n",
       " <td class=\"col-cost\">10<span class=\"icon-mana\"></span></td>]"
      ]
     },
     "execution_count": 120,
     "metadata": {},
     "output_type": "execute_result"
    }
   ],
   "source": [
    "soup2.find_all('td', class_='col-cost')"
   ]
  },
  {
   "cell_type": "code",
   "execution_count": 102,
   "metadata": {},
   "outputs": [],
   "source": [
    "# get the links for all the cards of the deck\n",
    "cards = soup2.find_all(href=re.compile('^/cards/'), class_=re.compile('^rarity'))"
   ]
  },
  {
   "cell_type": "code",
   "execution_count": 114,
   "metadata": {},
   "outputs": [],
   "source": [
    "nb_cards = 0\n",
    "nb_common = 0\n",
    "nb_rare = 0\n",
    "nb_legendary = 0\n",
    "nb_epic = 0\n",
    "for j in range(len(cards)):  # go through all the cards\n",
    "    card_attrs = cards[j].attrs\n",
    "    if card_attrs['data-rarity'] == \"COMMON\":\n",
    "        nb_common += int(card_attrs['data-count'])\n",
    "    elif card_attrs['data-rarity'] == \"RARE\":\n",
    "        nb_rare += int(card_attrs['data-count'])\n",
    "    elif card_attrs['data-rarity'] == \"LEGENDARY\":\n",
    "        nb_legendary += int(card_attrs['data-count'])\n",
    "    elif card_attrs['data-rarity'] == \"EPIC\":\n",
    "        nb_epic += int(card_attrs['data-count'])\n",
    "    nb_cards += int(card_attrs['data-count'])\n",
    "    "
   ]
  },
  {
   "cell_type": "code",
   "execution_count": 115,
   "metadata": {},
   "outputs": [
    {
     "data": {
      "text/plain": [
       "30"
      ]
     },
     "execution_count": 115,
     "metadata": {},
     "output_type": "execute_result"
    }
   ],
   "source": [
    "nb_common + nb_rare + nb_legendary + nb_epic"
   ]
  },
  {
   "cell_type": "code",
   "execution_count": null,
   "metadata": {},
   "outputs": [],
   "source": [
    "# we want a dataframe with\n",
    "# deck id, hero class, card id, card_rarity, card type (weapons, spell etc), mana cost, card_count, user id"
   ]
  },
  {
   "cell_type": "code",
   "execution_count": 121,
   "metadata": {},
   "outputs": [],
   "source": [
    "import sqlite3"
   ]
  },
  {
   "cell_type": "code",
   "execution_count": null,
   "metadata": {},
   "outputs": [],
   "source": []
  }
 ],
 "metadata": {
  "kernelspec": {
   "display_name": "Python 3",
   "language": "python",
   "name": "python3"
  },
  "language_info": {
   "codemirror_mode": {
    "name": "ipython",
    "version": 3
   },
   "file_extension": ".py",
   "mimetype": "text/x-python",
   "name": "python",
   "nbconvert_exporter": "python",
   "pygments_lexer": "ipython3",
   "version": "3.8.5"
  }
 },
 "nbformat": 4,
 "nbformat_minor": 4
}
